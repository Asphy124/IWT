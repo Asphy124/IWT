{
 "cells": [
  {
   "attachments": {},
   "cell_type": "markdown",
   "metadata": {},
   "source": [
    "**计算Shannon-Cosine wavelet 尺度函数的导数（一阶和二阶）**"
   ]
  },
  {
   "cell_type": "code",
   "execution_count": 6,
   "metadata": {},
   "outputs": [],
   "source": [
    "import sys, os\n",
    "sys.path.append(os.path.dirname(os.path.realpath('../utils')))\n",
    "import numpy as np\n",
    "import sys\n",
    "from utils.aiwt import cjkfun, z_g, CompressInterp, adapt_CjJ4"
   ]
  },
  {
   "cell_type": "code",
   "execution_count": 7,
   "metadata": {},
   "outputs": [],
   "source": [
    "j0 = 0\n",
    "J = 15\n",
    "a = 0\n",
    "b = 2\n",
    "deltax = (b-a)/(2**J)\n",
    "XJ0 = np.arange(a, b+deltax, deltax).reshape(1,-1)\n",
    "V0 = np.sin(np.pi * XJ0)\n",
    "eps0 = 0.005\n",
    "\n",
    "M = 1\n",
    "CC = 1\n",
    "\n",
    "cjk, cjknum, zJc, zJcnum = cjkfun(V0, J, j0, a, b, eps0)\n",
    "gjk, gjknum, gJc, gJcnum = z_g(j0, J, cjk, cjknum, zJc, zJcnum, a, b, M, CC)\n",
    "XJ = a + deltax * gJc\n",
    "V0 = CompressInterp(XJ0,V0,XJ)\n",
    "C = adapt_CjJ4(J, j0, gjk, gjknum, gJc, gJcnum, a, b)"
   ]
  },
  {
   "cell_type": "code",
   "execution_count": 8,
   "metadata": {},
   "outputs": [],
   "source": [
    "delta = (b - a) / (2 ** J)\n",
    "xk = a + gJc * delta\n",
    "xk = xk.reshape((1,-1))\n",
    "k = np.arange(2 ** j0+1).reshape((1,-1))"
   ]
  },
  {
   "cell_type": "code",
   "execution_count": 9,
   "metadata": {},
   "outputs": [],
   "source": [
    "def sad1x_Gauss(deltaxk, delta, R):\n",
    "    mm = (R**2) * (delta**2)\n",
    "    t = np.pi * deltaxk / delta\n",
    "    s = np.sin(t)\n",
    "    c = np.cos(t)\n",
    "    e = np.exp(-np.square(deltaxk) / (2 * mm))\n",
    "    se = s * e\n",
    "    ce = c * e\n",
    "    d1theta = ce/deltaxk - se*delta/(np.pi * deltaxk**2) - se * delta / (np.pi * mm)\n",
    "    return d1theta\n",
    "\n",
    "\n",
    "def sad2x_Gauss(deltaxk, delta, R):\n",
    "    mm = (R**2) * (delta**2)\n",
    "    t = np.pi * deltaxk / delta\n",
    "    s = np.sin(t)\n",
    "    c = np.cos(t)\n",
    "    e = np.exp(-np.square(deltaxk) / (2 * mm))\n",
    "    se = s * e\n",
    "    ce = c * e\n",
    "    d2theta = -np.pi * se / (delta * deltaxk) - 2 * ce / (deltaxk ** 2) - 2 * ce / mm + \\\n",
    "              2 * se * delta / (np.pi * (deltaxk ** 3)) + se * delta / (np.pi * mm * deltaxk) + \\\n",
    "              deltaxk * se * delta / (np.pi * mm * mm)\n",
    "    return d2theta"
   ]
  },
  {
   "cell_type": "code",
   "execution_count": 10,
   "metadata": {},
   "outputs": [],
   "source": [
    "def dxfai0_Shannon_Cosine(j,k,xmin,xmax,x):\n",
    "    R = 3.2\n",
    "    delta = (xmax - xmin) / (2 ** j)\n",
    "    xk = xmin + delta * k\n",
    "    t = np.ones((1,k.shape[1]))\n",
    "    if x.shape[0] == 1:\n",
    "        x = x.T\n",
    "    x = x * t\n",
    "    t = np.ones((x.shape[0], 1))\n",
    "    if xk.shape[1] == 1:\n",
    "        xk = xk.T\n",
    "    xk = t * xk\n",
    "    deltaxk = x - xk\n",
    "    a = (abs(deltaxk) < sys.float_info.epsilon)\n",
    "    mm = R * delta\n",
    "    d1theta = 0 * a\n",
    "    d2theta = -(3 + (np.pi**2)*(R**2)) / (3 * mm ** 2) * a\n",
    "    v_sad1x_Gauss = np.vectorize(sad1x_Gauss)\n",
    "    v_sad2x_Gauss = np.vectorize(sad2x_Gauss)\n",
    "    idx = np.where(deltaxk != 0)\n",
    "    c1 = np.zeros_like(deltaxk)\n",
    "    c1[idx] = v_sad1x_Gauss(deltaxk[idx], delta, R)\n",
    "    c2 = np.zeros_like(deltaxk)\n",
    "    c2[idx] = v_sad2x_Gauss(deltaxk[idx], delta, R)\n",
    "    d1theta = d1theta + c1\n",
    "    d2theta = d2theta + c2\n",
    "    return d1theta, d2theta"
   ]
  },
  {
   "cell_type": "code",
   "execution_count": 11,
   "metadata": {},
   "outputs": [],
   "source": [
    "ss1, ss2 = dxfai0_Shannon_Cosine(j0,k,a,b,xk)"
   ]
  }
 ],
 "metadata": {
  "kernelspec": {
   "display_name": "base",
   "language": "python",
   "name": "python3"
  },
  "language_info": {
   "codemirror_mode": {
    "name": "ipython",
    "version": 3
   },
   "file_extension": ".py",
   "mimetype": "text/x-python",
   "name": "python",
   "nbconvert_exporter": "python",
   "pygments_lexer": "ipython3",
   "version": "3.8.16"
  },
  "orig_nbformat": 4
 },
 "nbformat": 4,
 "nbformat_minor": 2
}
