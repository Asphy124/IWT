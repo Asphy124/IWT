{
 "cells": [
  {
   "attachments": {},
   "cell_type": "markdown",
   "metadata": {},
   "source": [
    "**Shannon-Cosine wavelet 尺度函数**"
   ]
  },
  {
   "cell_type": "code",
   "execution_count": 1,
   "metadata": {},
   "outputs": [],
   "source": [
    "%reset -f"
   ]
  },
  {
   "cell_type": "code",
   "execution_count": 2,
   "metadata": {},
   "outputs": [],
   "source": [
    "import sys, os\n",
    "sys.path.append(os.path.dirname(os.path.realpath('../utils')))\n",
    "import numpy as np\n",
    "import sys"
   ]
  },
  {
   "cell_type": "code",
   "execution_count": 3,
   "metadata": {},
   "outputs": [],
   "source": [
    "j0 = 0\n",
    "k0 = np.array([[0,1]])\n",
    "a = 0\n",
    "b = 2\n",
    "x = np.array([[0.25, 0.75, 1.25, 1.75]])"
   ]
  },
  {
   "cell_type": "code",
   "execution_count": 4,
   "metadata": {},
   "outputs": [],
   "source": [
    "def sax_Gauss(deltaxk,delta,R):\n",
    "    mm = (R**2) * (delta**2)\n",
    "    t = np.pi * deltaxk / delta\n",
    "    ss = np.sin(t)\n",
    "    ee = np.exp(-np.square(deltaxk) / (2 * mm))\n",
    "    return ss * ee / t"
   ]
  },
  {
   "cell_type": "code",
   "execution_count": 5,
   "metadata": {},
   "outputs": [],
   "source": [
    "def xfai0_Shannon_Cosine(j , k, xmin, xmax, x):\n",
    "    \"\"\"\n",
    "    输入：\n",
    "        j : int\n",
    "        k : ndarray(1, n)\n",
    "        xmin : int\n",
    "        xmax : int\n",
    "        x : ndarray(1, n)\n",
    "    功能：\n",
    "        计算 \\phi_{j_0, k_0}(x_{j+1,2k+1})\n",
    "    输出：\n",
    "        \\phi_{j_0, k_0}(x_{j+1,2k+1}) : ndarray(x.shape[1], k0.shape[1])\n",
    "    \"\"\"\n",
    "    R = 3.2\n",
    "    delta = (xmax - xmin) / 2 ** j\n",
    "    xk = xmin + delta * k\n",
    "    t = np.ones((1,k.shape[1]))\n",
    "    if x.shape[0] == 1:\n",
    "        x = x.T\n",
    "    x = x * t\n",
    "    t = np.ones((x.shape[0], 1))\n",
    "    if xk.shape[1] == 1:\n",
    "        xk = xk.T\n",
    "    xk = t * xk\n",
    "    deltaxk = x - xk\n",
    "    a = (abs(deltaxk) < sys.float_info.epsilon)\n",
    "    v_sad1x_Gauss = np.vectorize(sax_Gauss)\n",
    "    idx = np.where(deltaxk != 0)\n",
    "    c = np.zeros_like(deltaxk)\n",
    "    c[idx] = v_sad1x_Gauss(deltaxk[idx], delta, R)\n",
    "    return a + c"
   ]
  },
  {
   "cell_type": "code",
   "execution_count": 6,
   "metadata": {},
   "outputs": [
    {
     "data": {
      "text/plain": [
       "array([[0.97375216, 0.13410534],\n",
       "       [0.77884698, 0.46163842],\n",
       "       [0.46163842, 0.77884698],\n",
       "       [0.13410534, 0.97375216]])"
      ]
     },
     "execution_count": 6,
     "metadata": {},
     "output_type": "execute_result"
    }
   ],
   "source": [
    "theta = xfai0_Shannon_Cosine(j0, k0, a, b, x)\n",
    "theta"
   ]
  }
 ],
 "metadata": {
  "kernelspec": {
   "display_name": "base",
   "language": "python",
   "name": "python3"
  },
  "language_info": {
   "codemirror_mode": {
    "name": "ipython",
    "version": 3
   },
   "file_extension": ".py",
   "mimetype": "text/x-python",
   "name": "python",
   "nbconvert_exporter": "python",
   "pygments_lexer": "ipython3",
   "version": "3.8.16"
  },
  "orig_nbformat": 4
 },
 "nbformat": 4,
 "nbformat_minor": 2
}
