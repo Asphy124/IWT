{
 "cells": [
  {
   "attachments": {},
   "cell_type": "markdown",
   "metadata": {},
   "source": [
    "**获取配点**"
   ]
  },
  {
   "cell_type": "code",
   "execution_count": 86,
   "metadata": {},
   "outputs": [],
   "source": [
    "%reset -f"
   ]
  },
  {
   "cell_type": "code",
   "execution_count": 87,
   "metadata": {},
   "outputs": [],
   "source": [
    "import sys, os\n",
    "sys.path.append(os.path.dirname(os.path.realpath('../utils')))\n",
    "import numpy as np\n",
    "from utils.iwavelets import xphi0"
   ]
  },
  {
   "cell_type": "code",
   "execution_count": 88,
   "metadata": {},
   "outputs": [],
   "source": [
    "j0 = 0\n",
    "J = 15\n",
    "a = 0\n",
    "b = 2\n",
    "\n",
    "eps0 = 0.005\n",
    "\n",
    "deltax = (b-a)/(2**J)\n",
    "XJ0 = np.arange(a, b+deltax, deltax).reshape(1,-1)\n",
    "VJ = np.sin(np.pi * XJ0)"
   ]
  },
  {
   "cell_type": "code",
   "execution_count": 90,
   "metadata": {},
   "outputs": [],
   "source": [
    "def cjkfun(VJ, J, j0, a, b, eps0):\n",
    "    \"\"\"\n",
    "    输入：\n",
    "        V0 : ndarray(1, n) -- 待插值函数\n",
    "        J : int -- 小波插值层数\n",
    "        j0 : int -- 初始层数\n",
    "        a, b : int -- 函数的限制范围\n",
    "        eps0 : float -- 阈值\n",
    "    得到：\n",
    "        cjk : list[ndarray(-1), ...] -- j层每层的所有\\alpha不为0的配点位置索引\n",
    "        cjknum : list -- 层配点索引数量（每层需计算的配点数量）\n",
    "        zJc : list -- \\alpha不为0的配点实际位置\n",
    "        zJcnum : int -- 实际位置的数量\n",
    "    \"\"\"\n",
    "    k0 = np.arange(0, 2**j0 + 1).reshape(1,-1)\n",
    "    \n",
    "    nn = k0 * (2**(J-j0))\n",
    "    ff2 = VJ[0,nn[0]].reshape(1,-1)\n",
    "\n",
    "    cjk0 = []\n",
    "    cjk = [np.array([0])]\n",
    "    cjknum = []\n",
    "    zJc0 = nn[0]\n",
    "    \n",
    "    for j in range(j0, J):\n",
    "\n",
    "        # j层的所有k索引的单变量，向量形式构建，一次性全部算出\n",
    "        deltaj = (b-a)/2/(2**j)\n",
    "        k = np.arange(0, 2**j).reshape((1,-1))\n",
    "\n",
    "        # 这一层所有的x_{j+1, 2k+1}\n",
    "        x = a + (2 * k + 1) * deltaj\n",
    "\n",
    "        # \\phi_{j_0, k_0}(x_{j+1,2k+1})\n",
    "        theta = xphi0(j0, k0, a, b, x)\n",
    "        # \\sum\\limits^{2^{j0}}_{k_0=0}u(x_{j_0k_0})\\phi_{j_0, k_0}(x_{j+1,2k+1})\n",
    "        s1 = np.dot(ff2 , theta.T)\n",
    "\n",
    "        s2 = 0\n",
    "        # \\sum\\limits^{j-1}_{j_1=j_0}\n",
    "        for j1 in range(j0, j):\n",
    "            # j1层的所有k1索引的单变量，向量形式构建，一次性全部算出\n",
    "            k1 = np.arange(0, 2 ** j1).reshape((1,-1))\n",
    "            # \\psi_{j_1 k_1}(x_{j+1,2k+1}) == \\phi_{j_1 + 1, 2*k_1 + 1}(x_{j+1,2k+1})\n",
    "            theta = xphi0(j1 + 1,2 * k1 + 1,a,b,x)\n",
    "            # \\sum\\limits_{k_1 \\in Z^j_1}\\alpha_{j_1 k_1}\\psi_{j_1 k_1}(x_{j+1,2k+1})\n",
    "            s2 = s2 + np.dot(cjk0[j1][0][k1], theta.T)  # cjk0[j1][0][k1] : 即\\alpha_{j_1 k_1}\n",
    "\n",
    "        # u(x_{j+1, 2k+1})\n",
    "        nn = (2*k+1) * (2**(J-(j+1)))\n",
    "        ff1 = VJ[0,nn[0]].reshape((1,-1))  \n",
    "\n",
    "        # \\alpha_{jk} = u(x_{j+1, 2k+1}) - [...+...]\n",
    "        cjk0.append(ff1 - s1 - s2)\n",
    "\n",
    "        # 统计大于阈值的\\alpha_{jk}的值（减少无用计算）【自适应？？？】\n",
    "        cjkvalue = abs(ff1 - s1 - s2)\n",
    "        kk = np.flatnonzero(cjkvalue >= eps0)\n",
    "        num = kk.shape[0]\n",
    "        if num > 0:\n",
    "            # 记录\\alpha不为0的配点位置索引\n",
    "            cjk.append(kk)\n",
    "            # 记录\\alpha不为0的配点实际位置\n",
    "            zJc0 = np.append(zJc0, (2 * kk + 1) * (2 ** (J - j - 1)), 0)\n",
    "        \n",
    "        # 层配点索引数量（每层需计算的配点数量，去掉无用计算）\n",
    "        cjknum.append(num)\n",
    "\n",
    "        # 如果后面没有不为0的\\alpha值了就没有计算下去的必要了\n",
    "        if j >  j0 + 2 and num == 0:\n",
    "            cjknum += [0]*(J-j-1)\n",
    "            break\n",
    "    # \\alpha不为0的配点实际位置，从小到大排序方便索引\n",
    "    zJc = np.sort(zJc0).tolist()\n",
    "    # 实际位置的数量 其实== sum(cjknum) + 2 即两头+配点的数量总和\n",
    "    zJcnum = len(zJc)\n",
    "\n",
    "    # j层每层的所有\\alpha不为0的配点位置索引\n",
    "    # 层配点索引数量（每层需计算的配点数量）\n",
    "    # \\alpha不为0的配点实际位置\n",
    "    # 实际位置的数量\n",
    "    return cjk, cjknum, zJc, zJcnum\n",
    " "
   ]
  },
  {
   "cell_type": "code",
   "execution_count": 91,
   "metadata": {},
   "outputs": [],
   "source": [
    "cjk, cjknum, zJc, zJcnum = cjkfun(VJ, J, j0, a, b, eps0)"
   ]
  }
 ],
 "metadata": {
  "kernelspec": {
   "display_name": "base",
   "language": "python",
   "name": "python3"
  },
  "language_info": {
   "codemirror_mode": {
    "name": "ipython",
    "version": 3
   },
   "file_extension": ".py",
   "mimetype": "text/x-python",
   "name": "python",
   "nbconvert_exporter": "python",
   "pygments_lexer": "ipython3",
   "version": "3.8.16"
  },
  "orig_nbformat": 4
 },
 "nbformat": 4,
 "nbformat_minor": 2
}
