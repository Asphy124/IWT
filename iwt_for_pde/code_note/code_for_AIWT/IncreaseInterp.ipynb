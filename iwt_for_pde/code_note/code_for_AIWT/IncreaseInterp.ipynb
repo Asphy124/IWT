{
 "cells": [
  {
   "attachments": {},
   "cell_type": "markdown",
   "metadata": {},
   "source": [
    "**补充涉及计算的函数值**"
   ]
  },
  {
   "cell_type": "code",
   "execution_count": null,
   "metadata": {},
   "outputs": [],
   "source": [
    "%reset -f"
   ]
  },
  {
   "cell_type": "code",
   "execution_count": null,
   "metadata": {},
   "outputs": [],
   "source": [
    "%matplotlib inline\n",
    "import sys, os\n",
    "sys.path.append(os.path.dirname(os.path.realpath('../utils')))\n",
    "import numpy as np\n",
    "from utils.iwavelets import xphi0\n",
    "from utils.aiwt import restrain"
   ]
  },
  {
   "cell_type": "code",
   "execution_count": null,
   "metadata": {},
   "outputs": [],
   "source": [
    "def IncreaseInterp(KnowX,KnowP,NX, J,j0,cjk,cjknum,zJc,zJcnum,a,b,C):\n",
    "    \"\"\"\n",
    "    输入：\n",
    "        KnowX : ndarray(1, m) -- 上一次迭代得到空间中存在配点的位置集合\n",
    "        KnowP : ndarray(1, m) -- 上一次迭代得到空间中存在配点的位置对应的函数值集合\n",
    "        NX : ndarray(n,) -- 此次迭代时得到空间中存在配点的位置集合\n",
    "        J : int -- 插值小波层数\n",
    "        j0 : int -- 初始层数\n",
    "        cjk : list[ndarray(-1), ...] -- 上一次迭代的配点位置索引\n",
    "        cjknum : list -- 上一次迭代层配点索引数量（每层需计算的配点数量）\n",
    "        zJc : list -- 上一次迭代配点实际位置\n",
    "        zJcnum : int -- 上一次迭代实际位置的数量\n",
    "        a, b : float -- 函数的限制范围\n",
    "        C : list[ndarray()] -- 多尺度插值算子\n",
    "    输出：\n",
    "        P : ndarray(1, n) -- 当前空间中存在配点的位置对应的函数值集合\n",
    "    \"\"\"\n",
    "    # 两自变量点集之间一样的直接赋值\n",
    "    _, NX_index, KnowX_index = np.intersect1d(NX, KnowX, return_indices=True)\n",
    "    P = np.zeros_like(NX)\n",
    "    P[NX_index] = KnowP[0][KnowX_index]\n",
    "    # 两自变量点集之间不一样的，计算该位置下在当前空间中对应的函数值\n",
    "    diff = np.setdiff1d(NX, KnowX)\n",
    "    index = np.where(np.in1d(NX, diff))\n",
    "    i = np.arange(zJcnum)\n",
    "    x = NX[index].reshape((1,-1))\n",
    "    if x.any():\n",
    "        value = Ii(i,J,j0,cjk,cjknum,zJc,x,a,b,C)\n",
    "        s = np.dot(KnowP, value.T)\n",
    "    else:\n",
    "        s = []\n",
    "\n",
    "    P[index] = s\n",
    "    P = P.reshape((-1,1))\n",
    "    return P\n",
    "\n",
    "\n",
    "def Ii(i, J, j0, cjk, cjknum, zJc, x, a, b, C):\n",
    "    k = np.arange(0, 2**j0+1).reshape(1,-1)\n",
    "    s = xphi0(j0,k,a,b,x)\n",
    "    rr = restrain(j0,k.reshape(-1),J,zJc)\n",
    "    value = np.dot(s, rr)\n",
    "    for j in range(j0, len(C)+1):\n",
    "        if j > j0 and cjknum[j] == 0:\n",
    "            break\n",
    "        if cjknum[j] < 1:\n",
    "            continue\n",
    "        k = cjk[j].reshape(1,-1)\n",
    "        s = xphi0(j+1,2*k+1,a,b,x)\n",
    "        value = value + np.dot(s, C[j-1])\n",
    "    return value"
   ]
  }
 ],
 "metadata": {
  "language_info": {
   "name": "python"
  },
  "orig_nbformat": 4
 },
 "nbformat": 4,
 "nbformat_minor": 2
}
