{
 "cells": [
  {
   "cell_type": "code",
   "execution_count": 17,
   "metadata": {},
   "outputs": [],
   "source": [
    "%reset -f"
   ]
  },
  {
   "cell_type": "code",
   "execution_count": 18,
   "metadata": {},
   "outputs": [],
   "source": [
    "import sys, os\n",
    "sys.path.append(os.path.dirname(os.path.realpath('../utils')))\n",
    "import numpy as np\n",
    "from utils.aiwt import cjkfun, z_g, restrain\n",
    "from utils.iwavelets import xphi0"
   ]
  },
  {
   "cell_type": "code",
   "execution_count": 19,
   "metadata": {},
   "outputs": [],
   "source": [
    "j0 = 0\n",
    "J = 15\n",
    "a = 0\n",
    "b = 2\n",
    "V0 = np.sin(np.pi * np.arange(a, b+((b-a)/(2**J)), ((b-a)/(2**J)))).reshape(1,-1)\n",
    "window = 3\n",
    "eps0 = 0.005\n",
    "\n",
    "M = 1\n",
    "CC = 1\n",
    "\n",
    "cjk, cjknum, zJc, zJcnum = cjkfun(V0, J, j0, a, b, eps0)\n",
    "gjk, gjknum, gJc, gJcnum = z_g(j0, J, cjk, cjknum, zJc, zJcnum, a, b, M, CC)"
   ]
  },
  {
   "cell_type": "code",
   "execution_count": 20,
   "metadata": {},
   "outputs": [],
   "source": [
    "C = []"
   ]
  },
  {
   "cell_type": "code",
   "execution_count": 21,
   "metadata": {},
   "outputs": [],
   "source": [
    "j = 0\n",
    "if j > j0:\n",
    "    if j+1 == len(cjknum):\n",
    "        print('stop')\n",
    "    elif cjknum[j+1] == 0:\n",
    "        print('stop')"
   ]
  },
  {
   "cell_type": "code",
   "execution_count": 22,
   "metadata": {},
   "outputs": [],
   "source": [
    "deltaj = (b-a) / (2 ** (j+2))\n",
    "k = cjk[j+1].reshape((1,-1))\n",
    "x = (2 * k + 1) * deltaj"
   ]
  },
  {
   "cell_type": "code",
   "execution_count": 23,
   "metadata": {},
   "outputs": [],
   "source": [
    "s = 0\n",
    "for j1 in range(j0, j+1):\n",
    "    if cjknum[j1] == 0:\n",
    "        continue\n",
    "\n",
    "    k1 = cjk[j1].reshape((1,-1))\n",
    "\n",
    "    aa = xphi0(j1+1, 2 * k1 + 1, a, b, x)\n",
    "    aa = aa.T\n",
    "\n",
    "    s = s + np.dot(C[j1-1].T, aa)"
   ]
  },
  {
   "cell_type": "code",
   "execution_count": 24,
   "metadata": {},
   "outputs": [],
   "source": [
    "n = gJc.copy()\n",
    "rr = restrain(j+2,2 * k + 1,J,n)\n",
    "C.append(rr - s) if isinstance(s, int) else C.append(rr - s.T)"
   ]
  }
 ],
 "metadata": {
  "kernelspec": {
   "display_name": "base",
   "language": "python",
   "name": "python3"
  },
  "language_info": {
   "codemirror_mode": {
    "name": "ipython",
    "version": 3
   },
   "file_extension": ".py",
   "mimetype": "text/x-python",
   "name": "python",
   "nbconvert_exporter": "python",
   "pygments_lexer": "ipython3",
   "version": "3.8.16"
  },
  "orig_nbformat": 4
 },
 "nbformat": 4,
 "nbformat_minor": 2
}
