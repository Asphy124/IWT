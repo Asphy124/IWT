{
 "cells": [
  {
   "cell_type": "code",
   "execution_count": 1,
   "metadata": {},
   "outputs": [],
   "source": [
    "%reset -f"
   ]
  },
  {
   "cell_type": "code",
   "execution_count": 2,
   "metadata": {},
   "outputs": [],
   "source": [
    "import sys, os\n",
    "sys.path.append(os.path.dirname(os.path.realpath('../utils')))\n",
    "import numpy as np\n",
    "from utils.aiwt import cjkfun"
   ]
  },
  {
   "cell_type": "code",
   "execution_count": 3,
   "metadata": {},
   "outputs": [],
   "source": [
    "J = 15\n",
    "j0 = 0\n",
    "\n",
    "a = 0\n",
    "b = 2\n",
    "Re = 1000\n",
    "\n",
    "deltax = (b-a)/(2**J)\n",
    "XJ0 = np.arange(a, b+deltax, deltax).reshape(1,-1)\n",
    "V0 = np.sin(np.pi * XJ0)\n",
    "\n",
    "M = 1\n",
    "CC = 1\n",
    "\n",
    "t = 0.4\n",
    "tao = 0.001\n",
    "\n",
    "eps0 = 0.005\n",
    "window = 3\n",
    "\n",
    "same = np.inf\n",
    "\n",
    "nn_dict = {1:[1,'0.01'], 400:[3,'0.4'], 600:[5,'0.6'], 800:[1,'0.8'],\n",
    "           1200:[3,'1.2'], 600:[5,'1.6'], 2000:[1,'2.0'], 2400:[3,'2.4'],\n",
    "           2600:[5,'2.6'], 2800:[1,'2.8'], 3000:[3,'3.0'], 3200:[5,'3.2']}\n",
    "cjk, cjknum, zJc, zJcnum = cjkfun(V0, J, j0, a, b, eps0)"
   ]
  },
  {
   "cell_type": "code",
   "execution_count": 4,
   "metadata": {},
   "outputs": [],
   "source": [
    "gJc = zJc.copy()\n",
    "gjk = cjk.copy()\n",
    "gjknum = cjknum.copy()\n",
    "for j in range(J):\n",
    "    wt_1 = cjk[j]\n",
    "    position_x = (2**J)/2**(j+1) * (2*wt_1 + 1)\n",
    "    position_neighbor_len = (2**J)/2**(j+2)\n",
    "    position_left_neighbor = position_x - position_neighbor_len\n",
    "    position_right_neighbor = position_x + position_neighbor_len\n",
    "    position_neighbor = np.append(position_left_neighbor, position_right_neighbor, axis=0)\n",
    "    position_neighbor = np.sort(position_neighbor)\n",
    "    gJc = np.union1d(gJc, position_neighbor)\n",
    "    \n",
    "    k = np.arange(2**(j+1))\n",
    "    position_k = (2**J)/2**(j+2) * (2*k + 1)\n",
    "    new_position = np.where(np.in1d(position_k, position_neighbor))[0]\n",
    "    if j+2 > len(gjk):\n",
    "        gjk.append(new_position)\n",
    "        gjknum[j+1] = gjk[j+1].shape[0]\n",
    "        break\n",
    "    else:\n",
    "        gjk[j+1] = np.union1d(gjk[j+1], new_position)\n",
    "        gjknum[j+1] = gjk[j+1].shape[0]\n",
    "gJcnum = len(gJc)"
   ]
  },
  {
   "cell_type": "code",
   "execution_count": 9,
   "metadata": {},
   "outputs": [
    {
     "data": {
      "image/png": "[encoded data removed]",
      "text/plain": [
       "<Figure size 800x400 with 2 Axes>"
      ]
     },
     "metadata": {},
     "output_type": "display_data"
    }
   ],
   "source": [
    "from matplotlib import pyplot as plt \n",
    "fig, axs = plt.subplots(1, 2, figsize=(8,4))\n",
    "def DrawCollocationPoint(ax, cjk,cjknum,a,b,j0,J):\n",
    "    for j in range(j0, J):\n",
    "        deltax = (b - a) / 2 ** (j+1)\n",
    "        k = np.arange(cjknum[j])\n",
    "        if(k.shape[0]==0):\n",
    "            continue\n",
    "        Y1 = np.zeros(k.shape[0]) + j\n",
    "        X1 = (0.5 + cjk[j]) * deltax\n",
    "        ax.scatter(X1, Y1, s=8, c='k')\n",
    "    ax.set_xlabel(r'$x$')\n",
    "    ax.set_ylabel(r'Level $j$')\n",
    "    ax.set_ylim([0, J])\n",
    "DrawCollocationPoint(axs[0], cjk, cjknum,a,b,j0,J)\n",
    "DrawCollocationPoint(axs[1], gjk, gjknum,a,b,j0,J)"
   ]
  },
  {
   "cell_type": "code",
   "execution_count": 7,
   "metadata": {},
   "outputs": [],
   "source": []
  }
 ],
 "metadata": {
  "kernelspec": {
   "display_name": "base",
   "language": "python",
   "name": "python3"
  },
  "language_info": {
   "codemirror_mode": {
    "name": "ipython",
    "version": 3
   },
   "file_extension": ".py",
   "mimetype": "text/x-python",
   "name": "python",
   "nbconvert_exporter": "python",
   "pygments_lexer": "ipython3",
   "version": "3.8.16"
  },
  "orig_nbformat": 4
 },
 "nbformat": 4,
 "nbformat_minor": 2
}
