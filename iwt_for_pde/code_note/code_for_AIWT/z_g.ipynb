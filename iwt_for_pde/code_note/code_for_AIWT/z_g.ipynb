{
 "cells": [
  {
   "attachments": {},
   "cell_type": "markdown",
   "metadata": {},
   "source": [
    "**加入原配点的邻点，扩充为新的配点**"
   ]
  },
  {
   "cell_type": "code",
   "execution_count": 26,
   "metadata": {},
   "outputs": [],
   "source": [
    "%reset -f"
   ]
  },
  {
   "cell_type": "code",
   "execution_count": 27,
   "metadata": {},
   "outputs": [],
   "source": [
    "import sys, os\n",
    "sys.path.append(os.path.dirname(os.path.realpath('../utils')))\n",
    "import numpy as np\n",
    "from utils.aiwt import cjkfun"
   ]
  },
  {
   "cell_type": "code",
   "execution_count": 28,
   "metadata": {},
   "outputs": [],
   "source": [
    "J = 15\n",
    "j0 = 0\n",
    "\n",
    "a = 0\n",
    "b = 2\n",
    "Re = 1000\n",
    "\n",
    "deltax = (b-a)/(2**J)\n",
    "XJ0 = np.arange(a, b+deltax, deltax).reshape(1,-1)\n",
    "V0 = np.sin(np.pi * XJ0)\n",
    "\n",
    "M = 1\n",
    "CC = 1\n",
    "\n",
    "t = 0.4\n",
    "tao = 0.001\n",
    "\n",
    "eps0 = 0.005\n",
    "window = 3\n",
    "\n",
    "same = np.inf\n",
    "\n",
    "nn_dict = {1:[1,'0.01'], 400:[3,'0.4'], 600:[5,'0.6'], 800:[1,'0.8'],\n",
    "           1200:[3,'1.2'], 600:[5,'1.6'], 2000:[1,'2.0'], 2400:[3,'2.4'],\n",
    "           2600:[5,'2.6'], 2800:[1,'2.8'], 3000:[3,'3.0'], 3200:[5,'3.2']}\n",
    "cjk, cjknum, zJc, zJcnum = cjkfun(V0, J, j0, a, b, eps0)"
   ]
  },
  {
   "cell_type": "code",
   "execution_count": null,
   "metadata": {},
   "outputs": [],
   "source": [
    "# gjk, gjknum, gJc, gJcnum = z_g(j0, J, cjk, cjknum, zJc, zJcnum, a, b, M, CC)"
   ]
  },
  {
   "cell_type": "code",
   "execution_count": null,
   "metadata": {},
   "outputs": [],
   "source": [
    "def z_g(j0, J, zjk, zjknum, zJc, zJcnum, a, b, M, CC):\n",
    "    \"\"\"\n",
    "    输入：\n",
    "        j0 : int -- 初始层数\n",
    "        J : int -- 小波插值层数\n",
    "        zjk : list[ndarray(-1), ...] -- j层每层的所有\\alpha不为0的配点位置索引\n",
    "        zjknum : list -- 层配点索引数量（每层需计算的配点数量）\n",
    "        zJc : list -- \\alpha不为0的配点实际位置\n",
    "        zJcnum : int -- 实际位置的数量\n",
    "        a, b : int -- 函数的限制范围\n",
    "        M : int -- 上下为M个间隔的邻层\n",
    "        CC : int -- 左右第CC个间隔的邻点\n",
    "    功能：\n",
    "        找 原jm层 所有配点的左右邻点\n",
    "        邻点的寻找策略为与配点间隔为某固定值的点\n",
    "        固定值为: 该层以上高M级别内所有层配点的（间隔长度/2） *CC\n",
    "        找到后放入jm的高一层\n",
    "    输出：\n",
    "        gjk : list[ndarray(-1), ...] -- 加入邻点后的j层每层所有配点位置索引\n",
    "        gjknum : list -- 加入邻点后的层配点索引数量（每层需计算的配点数量）\n",
    "        gJc : list -- 加入邻点后的配点实际位置\n",
    "        gJcnum : int -- 加入邻点后的配点实际位置的数量\n",
    "    \"\"\"\n",
    "    gJc = zJc.copy()\n",
    "    gJcnum = zJcnum\n",
    "    gjk = zjk.copy()\n",
    "    gjknum = zjknum.copy()\n",
    "    for j in range(j0, J):\n",
    "        xj = j+1\n",
    "        deltax = (b - a) / (2 ** xj)\n",
    "        jmin = max(j0+1, xj-M) \n",
    "        jmax = min(J, xj+M)\n",
    "        for k in range(zjknum[j]):\n",
    "            kk = zjk[j][k]\n",
    "            xk = a + deltax * (2*kk + 1)\n",
    "            jMax = len(gjk)\n",
    "            xmin0 = xk - CC*(0.5**xj)\n",
    "            xmax0 = xk + CC*(0.5**xj)\n",
    "            for jj in range(jmin, jmax+1):\n",
    "                deltaxjj=(b-a)/(2**jj)\n",
    "                xmin = max(xmin0, a+deltaxjj)\n",
    "                xmax = min(xmax0, b-deltaxjj)\n",
    "                kmin = np.ceil((xmin-a)/deltaxjj)\n",
    "                kmax = np.floor((xmax-a)/deltaxjj)\n",
    "                if kmin < kmax:\n",
    "                    delta = 2 ** (J - jj)\n",
    "                    temp = np.arange(kmin*delta, kmax*delta+1, delta).tolist()\n",
    "                    gJc = np.union1d(gJc, temp)\n",
    "                    oe = np.mod(kmin,2)\n",
    "                    if oe == 1:\n",
    "                        jm = jj - 1\n",
    "                        if jm >= j0:\n",
    "                            temp1 = np.array([])\n",
    "                            if jm <= jMax - 1:\n",
    "                                temp1 = np.append(temp1, gjk[jm], 0)\n",
    "                            temp2 = np.arange((kmin - 1) / 2, (kmax - 1) / 2 + 1)\n",
    "                            temp3 = np.union1d(temp1,temp2)\n",
    "                            temp3 = np.array(temp3, dtype=np.int64)\n",
    "                            if jm < len(gjk):\n",
    "                                gjk[jm] = temp3\n",
    "                            else:\n",
    "                                gjk.append(temp3) \n",
    "                            gjknum[jm] = temp3.shape[0]\n",
    "                    elif oe == 0:\n",
    "                        jm = jj - 2\n",
    "                        if jm >= j0:\n",
    "                            if jm > jMax - 1:\n",
    "                                temp1 = np.array([])\n",
    "                            else:\n",
    "                                temp1 = np.append(np.array([]), gjk[jm], 0)\n",
    "                            temp2 = np.arange((kmin - 2) / 4, (kmax - 2) / 4 + 1)\n",
    "                            temp3 = np.union1d(temp1,temp2)\n",
    "                            temp3 = np.array(temp3, dtype=np.int64)\n",
    "                            if jm < len(gjk):\n",
    "                                gjk[jm] = temp3\n",
    "                            else:\n",
    "                                gjk.append(temp3) \n",
    "                            gjknum[jm] = temp3.shape[0]\n",
    "    gJcnum = gJc.shape[0]\n",
    "    return gjk, gjknum, gJc, gJcnum"
   ]
  },
  {
   "cell_type": "code",
   "execution_count": null,
   "metadata": {},
   "outputs": [],
   "source": [
    "gjk, gjknum, gJc, gJcnum = z_g(j0, J, cjk, cjknum, zJc, zJcnum, a, b, M, CC)"
   ]
  }
 ],
 "metadata": {
  "kernelspec": {
   "display_name": "base",
   "language": "python",
   "name": "python3"
  },
  "language_info": {
   "codemirror_mode": {
    "name": "ipython",
    "version": 3
   },
   "file_extension": ".py",
   "mimetype": "text/x-python",
   "name": "python",
   "nbconvert_exporter": "python",
   "pygments_lexer": "ipython3",
   "version": "3.8.16"
  },
  "orig_nbformat": 4
 },
 "nbformat": 4,
 "nbformat_minor": 2
}
