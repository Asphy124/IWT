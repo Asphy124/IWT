{
 "cells": [
  {
   "attachments": {},
   "cell_type": "markdown",
   "metadata": {},
   "source": [
    "**计算多尺度自适应插值算子**"
   ]
  },
  {
   "cell_type": "code",
   "execution_count": 3,
   "metadata": {},
   "outputs": [],
   "source": [
    "%reset -f"
   ]
  },
  {
   "cell_type": "code",
   "execution_count": 2,
   "metadata": {},
   "outputs": [],
   "source": [
    "import sys, os\n",
    "sys.path.append(os.path.dirname(os.path.realpath('../utils')))\n",
    "import numpy as np\n",
    "from utils.aiwt import cjkfun, z_g\n",
    "from utils.iwavelets import xphi0"
   ]
  },
  {
   "cell_type": "code",
   "execution_count": null,
   "metadata": {},
   "outputs": [],
   "source": [
    "j0 = 0\n",
    "J = 15\n",
    "a = 0\n",
    "b = 2\n",
    "V0 = np.sin(np.pi * np.arange(a, b+((b-a)/(2**J)), ((b-a)/(2**J)))).reshape(1,-1)\n",
    "window = 3\n",
    "eps0 = 0.005\n",
    "\n",
    "M = 1\n",
    "CC = 1\n",
    "\n",
    "cjk, cjknum, zJc, zJcnum = cjkfun(V0, J, j0, a, b, eps0)\n",
    "gjk, gjknum, gJc, gJcnum = z_g(j0, J, cjk, cjknum, zJc, zJcnum, a, b, M, CC)"
   ]
  },
  {
   "cell_type": "code",
   "execution_count": null,
   "metadata": {},
   "outputs": [],
   "source": [
    "def restrain(j1, k1, j2, k2):\n",
    "    \"\"\"\n",
    "    输入：\n",
    "        j1 : int -- 需计算掩码的层\n",
    "        k1 : ndarray(n,) -- 用于获取配点位置的中间量索引\n",
    "        j2 : int -- 总层数\n",
    "        k2 : list[] -- 所有配点的位置\n",
    "    功能：\n",
    "        限制算子，获取配点各自所在位置的掩码（唯一True）\n",
    "    输出：\n",
    "        value : list[ndarray(len(k2), len(k1))], j层配点各自所在位置的掩码\n",
    "    \"\"\"\n",
    "    len1 = k1.shape[0]\n",
    "    len2 = k2.shape[0]\n",
    "    j1_j2 = j1 - j2\n",
    "    t = 2 ** j1_j2\n",
    "    if j1_j2 <= 0:\n",
    "        rt = k1 / t\n",
    "        rt = rt.reshape((-1,1))\n",
    "        k2 = k2.reshape((1,-1))\n",
    "        i = np.ones((1,len2))\n",
    "        rt = rt * i\n",
    "        i = np.ones((len1,1))\n",
    "        k2 = i * k2\n",
    "        value = ~np.array(abs(rt - k2), dtype=bool)\n",
    "    return value"
   ]
  },
  {
   "cell_type": "code",
   "execution_count": null,
   "metadata": {},
   "outputs": [],
   "source": [
    "def adapt_CjJ4(J,j0,cjk,cjknum,zJc,zJcnum,a,b):\n",
    "    \"\"\"\n",
    "    输入：\n",
    "        J : int -- 小波插值层数\n",
    "        j0 : int -- 初始层数\n",
    "        cjk : list[ndarray(-1), ...] -- j层每层配点位置索引\n",
    "        cjknum : list -- 层配点索引数量（每层需计算的配点数量）\n",
    "        zJc : list -- 配点实际位置\n",
    "        zJcnum : int -- 实际位置的数量\n",
    "        a, b : int -- 函数的限制范围\n",
    "    功能：\n",
    "        存储每层插值算子C\n",
    "    输出：\n",
    "        C : list[ndarray()] -- 所有层的插值算子C\n",
    "    \"\"\"\n",
    "    C = []\n",
    "    for j in range(j0, J):\n",
    "        if j > j0:\n",
    "            if j+1 == len(cjknum):\n",
    "                break\n",
    "            elif cjknum[j+1] == 0:\n",
    "                break\n",
    "        \n",
    "        # j层的所有k索引的单变量，向量形式构建，一次性全部算出\n",
    "        deltaj = (b-a) / (2 ** (j+2))\n",
    "        k = cjk[j+1].reshape((1,-1))\n",
    "\n",
    "        # 这一层所有的x_{j+1, 2k+1}\n",
    "        x = (2 * k + 1) * deltaj\n",
    "\n",
    "        # 各单变量独自的掩码\n",
    "        n = zJc.copy()\n",
    "        rr = restrain(j+2,2 * k + 1,J,n)\n",
    "\n",
    "        s = 0\n",
    "        for j1 in range(j0, j+1): # \\sum_{j1=j0}^{j-1}\n",
    "            if cjknum[j1] == 0:\n",
    "                continue\n",
    "            # j1层的所有k1索引的单变量，向量形式构建，一次性全部算出\n",
    "            k1 = cjk[j1].reshape((1,-1))\n",
    "\n",
    "            # \\psi_{j_1 k_1}(x_{j+1,2k+1}) == \\phi_{j_1 + 1, 2*k_1 + 1}(x_{j+1,2k+1})\n",
    "            aa = xphi0(j1+1, 2 * k1 + 1, a, b, x)\n",
    "            aa = aa.T\n",
    "            # 在j层的所有k索引的单变量 位置上 堆叠起来的 所有k1索引的单变量\n",
    "            # 即 \\sum_{n=0}^{2^J}（列） \\sum_{k_1=0}^{2^{j_1-1}}（行） 在 sum之前 的所有单值\n",
    "            s = s + np.dot(C[j1-1].T, aa)\n",
    "        # 计算得到该层C，存储\n",
    "        C.append(rr - s) if isinstance(s, int) else C.append(rr - s.T)\n",
    "    return C"
   ]
  },
  {
   "cell_type": "code",
   "execution_count": null,
   "metadata": {},
   "outputs": [],
   "source": [
    "C = adapt_CjJ4(J,j0,gjk,gjknum,gJc,gJcnum,a,b)"
   ]
  },
  {
   "cell_type": "code",
   "execution_count": null,
   "metadata": {},
   "outputs": [],
   "source": [
    "aa = C[5]"
   ]
  }
 ],
 "metadata": {
  "kernelspec": {
   "display_name": "base",
   "language": "python",
   "name": "python3"
  },
  "language_info": {
   "codemirror_mode": {
    "name": "ipython",
    "version": 3
   },
   "file_extension": ".py",
   "mimetype": "text/x-python",
   "name": "python",
   "nbconvert_exporter": "python",
   "pygments_lexer": "ipython3",
   "version": "3.8.16"
  },
  "orig_nbformat": 4
 },
 "nbformat": 4,
 "nbformat_minor": 2
}
