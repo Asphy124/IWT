{
 "cells": [
  {
   "attachments": {},
   "cell_type": "markdown",
   "metadata": {},
   "source": [
    "**更新配点**"
   ]
  },
  {
   "cell_type": "code",
   "execution_count": 1,
   "metadata": {},
   "outputs": [],
   "source": [
    "%reset -f"
   ]
  },
  {
   "cell_type": "code",
   "execution_count": 2,
   "metadata": {},
   "outputs": [],
   "source": [
    "import sys, os\n",
    "sys.path.append(os.path.dirname(os.path.realpath('../utils')))\n",
    "import numpy as np\n",
    "from matplotlib import pyplot as plt\n",
    "from utils.aiwt import cjkfun, z_g, CompressInterp, adapt_CjJ4\n",
    "from utils.pde import theta1_2d, Precise"
   ]
  },
  {
   "cell_type": "code",
   "execution_count": 3,
   "metadata": {},
   "outputs": [],
   "source": [
    "J = 15\n",
    "j0 = 0\n",
    "\n",
    "a = 0\n",
    "b = 2\n",
    "Re = 1000\n",
    "\n",
    "deltax = (b-a)/(2**J)\n",
    "XJ0 = np.arange(a, b+deltax, deltax).reshape(1,-1)\n",
    "V0 = np.sin(np.pi * XJ0)\n",
    "\n",
    "M = 1\n",
    "CC = 1\n",
    "\n",
    "t = 0.4\n",
    "tao = 0.001\n",
    "\n",
    "eps0 = 0.005\n"
   ]
  },
  {
   "cell_type": "code",
   "execution_count": 4,
   "metadata": {},
   "outputs": [],
   "source": [
    "cjk, cjknum, zJc, zJcnum = cjkfun(V0, J, j0, a, b, eps0)\n",
    "gjk, gjknum, gJc, gJcnum = z_g(j0, J, cjk, cjknum, zJc, zJcnum, a, b, M, CC)\n",
    "XJ = a + deltax * gJc\n",
    "V0 = CompressInterp(XJ0, V0, XJ)\n",
    "C = adapt_CjJ4(J, j0, gjk, gjknum, gJc, gJcnum, a, b)\n",
    "theta1d, theta2d = theta1_2d(J, j0, a, b, C, gjk, gjknum, gJc, gJcnum)\n",
    "V1 = Precise(V0, Re, theta1d,theta2d,gJcnum,tao)"
   ]
  },
  {
   "cell_type": "code",
   "execution_count": 5,
   "metadata": {},
   "outputs": [],
   "source": [
    "def cjkfun2(VJc, J, C, j0, gjk, gjknum, gJcnum, eps0):\n",
    "    \"\"\"\n",
    "    输入：\n",
    "        VJc : ndarray(1, n) -- 待插值函数\n",
    "        J : int -- 小波插值层数\n",
    "        C : list[ndarray()] -- 多尺度插值算子\n",
    "        j0 : int -- 初始层数\n",
    "        gjk : list[ndarray(-1), ...] -- 前一层每层所有配点位置索引\n",
    "        gjknum : list -- 层配点索引数量（每层需计算的配点数量）\n",
    "        gJcnum : int -- 配点实际位置的数量\n",
    "        eps0 : float -- 阈值\n",
    "    功能：\n",
    "        在上一个空间中获取到的配点的基础上，再次计算得到新空间的配点\n",
    "    输出：\n",
    "        cjk : list[ndarray(-1), ...] -- 的配点位置索引\n",
    "        cjknum : list -- 层配点索引数量（每层需计算的配点数量）\n",
    "        zJc : list -- 配点实际位置\n",
    "        zJcnum : int -- 实际位置的数量\n",
    "    \"\"\"\n",
    "    numJ = 2**j0 + 1\n",
    "    \n",
    "    cjk = [np.array([0])]\n",
    "    cjknum = []\n",
    "    zJc0 = np.arange(numJ) * 2**(J-j0)\n",
    "    for j in range(j0, J):\n",
    "        num = 0\n",
    "        if gjknum[j] > 0:\n",
    "            # 配点代表的 “权值” 与函数空间之间的“差异”\n",
    "            cjkvalue = np.dot(C[j-1], VJc)\n",
    "            # 阈值\n",
    "            kt = np.flatnonzero((abs(cjkvalue) > eps0))\n",
    "            num = kt.shape[0]\n",
    "            if num > 0:\n",
    "                kk = gjk[j][kt]\n",
    "                cjk.append(kk)\n",
    "                zJc0 = np.append(zJc0, (2 * kk + 1) * (2 ** (J - j - 1)), 0)\n",
    "        cjknum.append(num)\n",
    "    zJc = np.sort(zJc0).tolist()\n",
    "    zJcnum = len(zJc)\n",
    "    return cjk, cjknum, zJc, zJcnum"
   ]
  },
  {
   "cell_type": "code",
   "execution_count": 6,
   "metadata": {},
   "outputs": [],
   "source": [
    "cjk, cjknum, zJc, zJcnum = cjkfun2(V1, J, C, j0, gjk, gjknum, gJcnum, eps0)"
   ]
  }
 ],
 "metadata": {
  "kernelspec": {
   "display_name": "base",
   "language": "python",
   "name": "python3"
  },
  "language_info": {
   "codemirror_mode": {
    "name": "ipython",
    "version": 3
   },
   "file_extension": ".py",
   "mimetype": "text/x-python",
   "name": "python",
   "nbconvert_exporter": "python",
   "pygments_lexer": "ipython3",
   "version": "3.8.16"
  },
  "orig_nbformat": 4
 },
 "nbformat": 4,
 "nbformat_minor": 2
}
