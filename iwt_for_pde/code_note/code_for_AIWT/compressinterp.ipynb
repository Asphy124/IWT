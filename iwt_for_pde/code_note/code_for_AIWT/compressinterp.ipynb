{
 "cells": [
  {
   "attachments": {},
   "cell_type": "markdown",
   "metadata": {},
   "source": [
    "**筛选涉及计算的函数值**"
   ]
  },
  {
   "cell_type": "code",
   "execution_count": 9,
   "metadata": {},
   "outputs": [],
   "source": [
    "%reset -f"
   ]
  },
  {
   "cell_type": "code",
   "execution_count": 10,
   "metadata": {},
   "outputs": [],
   "source": [
    "import sys, os\n",
    "sys.path.append(os.path.dirname(os.path.realpath('../utils')))\n",
    "import numpy as np\n",
    "from utils.aiwt import cjkfun, z_g"
   ]
  },
  {
   "cell_type": "code",
   "execution_count": 11,
   "metadata": {},
   "outputs": [],
   "source": [
    "J = 15\n",
    "j0 = 0\n",
    "\n",
    "a = 0\n",
    "b = 2\n",
    "M = 1\n",
    "CC = 1\n",
    "eps0 = 0.005\n",
    "window = 3\n",
    "\n",
    "deltax = (b-a)/(2**J)\n",
    "XJ0 = np.arange(a, b+deltax, deltax).reshape(1,-1)\n",
    "V0 = np.sin(np.pi * XJ0)\n",
    "cjk, cjknum, zJc, zJcnum = cjkfun(V0, J, j0, a, b, eps0)\n",
    "_, _, gJc, _ = z_g(j0, J, cjk, cjknum, zJc, zJcnum, a, b, M, CC)\n",
    "XJ = a + deltax * gJc"
   ]
  },
  {
   "cell_type": "code",
   "execution_count": 12,
   "metadata": {},
   "outputs": [],
   "source": [
    "def CompressInterp(KnowX, KnowP, NX):\n",
    "    \"\"\"\n",
    "    输入：\n",
    "        KnowX : ndarray(1, n) -- 自变量x的所有离散值\n",
    "        KnowP : ndarray(1, n) -- 自变量x决定的因变量y的所有离散值\n",
    "        NX : ndarray(m, ) -- 插值点位置对应的x的值\n",
    "    功能：\n",
    "        压缩数据量，只留下一些有涉及到计算的值\n",
    "    输出：\n",
    "        V0 : ndarray(n, 1) -- 所有配点实际位置索引得到的自变量值对应的因变量值\n",
    "    \"\"\"\n",
    "    NP = []\n",
    "    for i in range(len(NX)):\n",
    "        x = NX[i]\n",
    "        j = np.flatnonzero(KnowX == x)\n",
    "        NP.append(KnowP[0][j[0]])\n",
    "    NP = np.array(NP).reshape((-1,1))\n",
    "    return NP"
   ]
  },
  {
   "cell_type": "code",
   "execution_count": 13,
   "metadata": {},
   "outputs": [],
   "source": [
    "V0 = CompressInterp(XJ0,V0,XJ)"
   ]
  }
 ],
 "metadata": {
  "kernelspec": {
   "display_name": "base",
   "language": "python",
   "name": "python3"
  },
  "language_info": {
   "codemirror_mode": {
    "name": "ipython",
    "version": 3
   },
   "file_extension": ".py",
   "mimetype": "text/x-python",
   "name": "python",
   "nbconvert_exporter": "python",
   "pygments_lexer": "ipython3",
   "version": "3.8.16"
  },
  "orig_nbformat": 4
 },
 "nbformat": 4,
 "nbformat_minor": 2
}
