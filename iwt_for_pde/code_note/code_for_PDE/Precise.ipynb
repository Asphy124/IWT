{
 "cells": [
  {
   "attachments": {},
   "cell_type": "markdown",
   "metadata": {},
   "source": [
    "**自适应精细积分法**"
   ]
  },
  {
   "cell_type": "code",
   "execution_count": 4,
   "metadata": {},
   "outputs": [],
   "source": [
    "%reset -f"
   ]
  },
  {
   "cell_type": "code",
   "execution_count": 5,
   "metadata": {},
   "outputs": [],
   "source": [
    "%matplotlib inline\n",
    "import sys, os\n",
    "sys.path.append(os.path.dirname(os.path.realpath('../utils')))\n",
    "import numpy as np\n",
    "from matplotlib import pyplot as plt\n",
    "from utils.aiwt import cjkfun, z_g, CompressInterp, adapt_CjJ4\n",
    "from utils.pde import theta1_2d\n"
   ]
  },
  {
   "cell_type": "code",
   "execution_count": 6,
   "metadata": {},
   "outputs": [],
   "source": [
    "j0 = 0\n",
    "J = 15\n",
    "a = 0\n",
    "b = 2\n",
    "deltax = (b-a)/(2**J)\n",
    "XJ0 = np.arange(a, b+deltax, deltax).reshape(1,-1)\n",
    "V0 = np.sin(np.pi * XJ0)\n",
    "window = 3\n",
    "eps0 = 0.005\n",
    "\n",
    "M = 1\n",
    "CC = 1\n",
    "\n",
    "cjk, cjknum, zJc, zJcnum = cjkfun(V0, J, j0, a, b, eps0)\n",
    "gjk, gjknum, gJc, gJcnum = z_g(j0, J, cjk, cjknum, zJc, zJcnum, a, b, M, CC)\n",
    "XJ = a + deltax * gJc\n",
    "V0 = CompressInterp(XJ0,V0,XJ)"
   ]
  },
  {
   "cell_type": "code",
   "execution_count": 7,
   "metadata": {},
   "outputs": [],
   "source": [
    "C = adapt_CjJ4(J, j0, gjk, gjknum, gJc, gJcnum, a, b)"
   ]
  },
  {
   "cell_type": "code",
   "execution_count": 8,
   "metadata": {},
   "outputs": [],
   "source": [
    "theta1d, theta2d = theta1_2d(J, j0, a, b, C, gjk, gjknum, gJc, gJcnum)"
   ]
  },
  {
   "cell_type": "code",
   "execution_count": 9,
   "metadata": {},
   "outputs": [],
   "source": [
    "Re = 1000\n",
    "tao = 0.001"
   ]
  },
  {
   "cell_type": "code",
   "execution_count": 10,
   "metadata": {},
   "outputs": [],
   "source": [
    "def Vd(Vk,Re,theta1d,theta2d):\n",
    "    V = Vk.reshape((-1,1))\n",
    "    s1 = np.dot(theta2d, V)\n",
    "    s2 = np.dot(theta1d, V)\n",
    "    Vd1 = s1 / Re - V * s2\n",
    "    return Vd1"
   ]
  },
  {
   "cell_type": "code",
   "execution_count": 11,
   "metadata": {},
   "outputs": [],
   "source": [
    "def M012(Vk,Re,theta1d,theta2d):\n",
    "    Vk = Vk.reshape((-1,1))\n",
    "    Vd1 = Vd (Vk,Re,theta1d,theta2d)\n",
    "    M00 = theta2d / Re\n",
    "    Vkdiag = np.diag(Vk.reshape(-1))\n",
    "    M11 = -np.dot(Vkdiag, theta1d)\n",
    "    Vd1diag = np.diag(Vd1.reshape(-1))\n",
    "    M22 = np.dot(theta1d, Vd1diag)\n",
    "    return M00, M11, M22"
   ]
  },
  {
   "cell_type": "code",
   "execution_count": 12,
   "metadata": {},
   "outputs": [],
   "source": [
    "def Precise(V0,Re,theta1d,theta2d,gJcnum,tao):\n",
    "    V0 = V0.reshape((-1, 1))\n",
    "    N = 10\n",
    "    m = 2 ** N\n",
    "    deltat = tao / m\n",
    "    M00, M11, M22 = M012(V0,Re,theta1d,theta2d)\n",
    "    r0 = np.dot(M11, V0)\n",
    "    r1 = np.dot(M22, V0) + np.dot(M11, np.dot((M00 + M11), V0))\n",
    "    I = np.eye(gJcnum, gJcnum)\n",
    "    deltatH = deltat * M00\n",
    "    deltatH2 = np.dot(deltatH, deltatH)\n",
    "    Ta = deltatH + np.dot(deltatH2, (I + deltatH / 3 + deltatH2 / 12)) / 2\n",
    "    for _ in range(N):\n",
    "        Ta = 2 * Ta + np.dot(Ta, Ta)\n",
    "    T = I + Ta\n",
    "    invM00 = np.linalg.inv(M00)\n",
    "    temp = r0 + np.dot(invM00, r1)\n",
    "    V1 = np.dot(T, (V0 + np.dot(invM00, temp))) - np.dot(invM00, (temp + tao * r1))\n",
    "    return V1"
   ]
  },
  {
   "cell_type": "code",
   "execution_count": 13,
   "metadata": {},
   "outputs": [],
   "source": [
    "V1 = Precise(V0,Re,theta1d,theta2d,gJcnum,tao)"
   ]
  },
  {
   "cell_type": "code",
   "execution_count": 24,
   "metadata": {},
   "outputs": [
    {
     "data": {
      "text/plain": [
       "<matplotlib.legend.Legend at 0x1d733c91e20>"
      ]
     },
     "execution_count": 24,
     "metadata": {},
     "output_type": "execute_result"
    },
    {
     "data": {
      "image/png": "[encoded data removed]",
      "text/plain": [
       "<Figure size 640x480 with 1 Axes>"
      ]
     },
     "metadata": {},
     "output_type": "display_data"
    }
   ],
   "source": [
    "plt.scatter(XJ, V0[:,0],label='V_0')\n",
    "plt.scatter(XJ, V1[:,0], s=8, c='r', label='V_1')\n",
    "plt.legend()"
   ]
  }
 ],
 "metadata": {
  "kernelspec": {
   "display_name": "base",
   "language": "python",
   "name": "python3"
  },
  "language_info": {
   "codemirror_mode": {
    "name": "ipython",
    "version": 3
   },
   "file_extension": ".py",
   "mimetype": "text/x-python",
   "name": "python",
   "nbconvert_exporter": "python",
   "pygments_lexer": "ipython3",
   "version": "3.8.16"
  },
  "orig_nbformat": 4
 },
 "nbformat": 4,
 "nbformat_minor": 2
}
