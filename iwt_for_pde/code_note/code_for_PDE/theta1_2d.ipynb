{
 "cells": [
  {
   "attachments": {},
   "cell_type": "markdown",
   "metadata": {},
   "source": [
    "**计算插值算子的导数（一阶和二阶导数）**"
   ]
  },
  {
   "cell_type": "code",
   "execution_count": null,
   "metadata": {},
   "outputs": [],
   "source": [
    "%reset -f"
   ]
  },
  {
   "cell_type": "code",
   "execution_count": null,
   "metadata": {},
   "outputs": [],
   "source": [
    "import sys, os\n",
    "sys.path.append(os.path.dirname(os.path.realpath('../utils')))\n",
    "import numpy as np\n",
    "from utils.aiwt import cjkfun, z_g, CompressInterp, adapt_CjJ4, restrain\n",
    "from utils.iwavelets import dxphi0"
   ]
  },
  {
   "cell_type": "code",
   "execution_count": null,
   "metadata": {},
   "outputs": [],
   "source": [
    "j0 = 0\n",
    "J = 15\n",
    "a = 0\n",
    "b = 2\n",
    "deltax = (b-a)/(2**J)\n",
    "XJ0 = np.arange(a, b+deltax, deltax).reshape(1,-1)\n",
    "V0 = np.sin(np.pi * XJ0)\n",
    "\n",
    "eps0 = 0.005\n",
    "\n",
    "M = 1\n",
    "CC = 1\n",
    "\n",
    "cjk, cjknum, zJc, zJcnum = cjkfun(V0, J, j0, a, b, eps0)\n",
    "gjk, gjknum, gJc, gJcnum = z_g(j0, J, cjk, cjknum, zJc, zJcnum, a, b, M, CC)\n",
    "XJ = a + deltax * gJc\n",
    "V0 = CompressInterp(XJ0,V0,XJ)\n",
    "C = adapt_CjJ4(J, j0, gjk, gjknum, gJc, gJcnum, a, b)"
   ]
  },
  {
   "cell_type": "code",
   "execution_count": null,
   "metadata": {},
   "outputs": [],
   "source": [
    "def Ii1_2d(J, j0, cjk, cjknum, zJc, x, a, b, C):\n",
    "    k = np.arange(2 ** j0+1).reshape((1,-1))\n",
    "    rr = restrain(j0,k,J,zJc)\n",
    "    ss1, ss2 = dxphi0(j0,k,a,b,x)\n",
    "    Ii1d = np.dot(ss1, rr)\n",
    "    Ii2d = np.dot(ss2, rr)\n",
    "\n",
    "    for j in range(j0+1, J):\n",
    "        if j == 0:\n",
    "            continue\n",
    "        elif j > j0 and cjknum[j] == 0:\n",
    "            break\n",
    "        k = cjk[j].reshape((1,-1))\n",
    "        ss1, ss2 = dxphi0(j + 1,2 * k + 1,a,b,x)\n",
    "        Ii1d = Ii1d + np.dot(ss1, C[j-1])\n",
    "        Ii2d = Ii2d + np.dot(ss2, C[j-1])\n",
    "    return Ii1d, Ii2d"
   ]
  },
  {
   "cell_type": "code",
   "execution_count": null,
   "metadata": {},
   "outputs": [],
   "source": [
    "def theta1_2d(J, j0, a, b, C, cjk, cjknum, zJc, zJcnum):\n",
    "    delta = (b - a) / (2 ** J)\n",
    "    xk = a + zJc * delta\n",
    "    xk = xk.reshape((1,-1))\n",
    "    theta1d, theta2d = Ii1_2d(J, j0, cjk, cjknum, zJc, xk, a, b, C)\n",
    "    return theta1d, theta2d"
   ]
  },
  {
   "cell_type": "code",
   "execution_count": null,
   "metadata": {},
   "outputs": [],
   "source": [
    "theta1d, theta2d = theta1_2d(J, j0, a, b, C, gjk, gjknum, gJc, gJcnum)"
   ]
  }
 ],
 "metadata": {
  "kernelspec": {
   "display_name": "base",
   "language": "python",
   "name": "python3"
  },
  "language_info": {
   "codemirror_mode": {
    "name": "ipython",
    "version": 3
   },
   "file_extension": ".py",
   "mimetype": "text/x-python",
   "name": "python",
   "nbconvert_exporter": "python",
   "pygments_lexer": "ipython3",
   "version": "3.8.16"
  },
  "orig_nbformat": 4
 },
 "nbformat": 4,
 "nbformat_minor": 2
}
