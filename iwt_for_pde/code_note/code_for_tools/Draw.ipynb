{
 "cells": [
  {
   "attachments": {},
   "cell_type": "markdown",
   "metadata": {},
   "source": [
    "**画出函数和插值点**"
   ]
  },
  {
   "cell_type": "code",
   "execution_count": null,
   "metadata": {},
   "outputs": [],
   "source": [
    "%reset -f"
   ]
  },
  {
   "cell_type": "code",
   "execution_count": null,
   "metadata": {},
   "outputs": [],
   "source": [
    "import sys, os\n",
    "sys.path.append(os.path.dirname(os.path.realpath('../utils')))\n",
    "import numpy as np\n",
    "from matplotlib import pyplot as plt\n",
    "from utils.aiwt import cjkfun, z_g, CompressInterp, adapt_CjJ4\n",
    "from utils.pde import theta1_2d, Precise\n",
    "from scipy.interpolate import pchip_interpolate"
   ]
  },
  {
   "cell_type": "code",
   "execution_count": null,
   "metadata": {},
   "outputs": [],
   "source": [
    "J = 15\n",
    "j0 = 0\n",
    "a = 0\n",
    "b = 2\n",
    "Re = 1000\n",
    "deltax = (b-a)/(2**J)\n",
    "XJ0 = np.arange(a, b+deltax, deltax).reshape(1,-1)\n",
    "V0 = np.sin(np.pi * XJ0)\n",
    "M = 1\n",
    "CC = 1\n",
    "t = 0.4\n",
    "tao = 0.001\n",
    "eps0 = 0.005\n",
    "nn_dict = {1:[1,'0.01'], 400:[3,'0.4'], 600:[5,'0.6'], 800:[1,'0.8'],\n",
    "           1200:[3,'1.2'], 600:[5,'1.6'], 2000:[1,'2.0'], 2400:[3,'2.4'],\n",
    "           2600:[5,'2.6'], 2800:[1,'2.8'], 3000:[3,'3.0'], 3200:[5,'3.2']}\n",
    "cjk, cjknum, zJc, zJcnum = cjkfun(V0, J, j0, a, b, eps0)\n",
    "gjk, gjknum, gJc, gJcnum = z_g(j0, J, cjk, cjknum, zJc, zJcnum, a, b, M, CC)\n",
    "XJ = a + deltax * gJc\n",
    "V0 = CompressInterp(XJ0, V0, XJ)\n",
    "C = adapt_CjJ4(J, j0, gjk, gjknum, gJc, gJcnum, a, b)\n",
    "theta1d, theta2d = theta1_2d(J, j0, a, b, C, gjk, gjknum, gJc, gJcnum)\n",
    "V1 = Precise(V0, Re, theta1d,theta2d,gJcnum,tao)"
   ]
  },
  {
   "cell_type": "code",
   "execution_count": null,
   "metadata": {},
   "outputs": [],
   "source": [
    "def Draw(ax, X, V, gjk, gjknum, gJc, xmin, xmax, j0, J):\n",
    "    xmin = min(X)\n",
    "    xmax = max(X)\n",
    "    deltax = 1.e-4\n",
    "    x = np.arange(xmin, xmax+deltax, deltax)\n",
    "    v = pchip_interpolate(X.reshape(-1), V.reshape(-1), x, der=0, axis=0)\n",
    "    deltaxJ = (xmax - xmin) / (2 ** J)\n",
    "    XJ = xmin + np.array(gJc) * deltaxJ\n",
    "    VJ = CompressInterp(X.reshape((1,-1)),V.reshape((1,-1)),XJ)\n",
    "\n",
    "    ax.plot(x,v,'-k')\n",
    "    ax.scatter(XJ, VJ.reshape(-1), s=10)\n",
    "    ax.set_xlabel(r'$x$')\n",
    "    ax.set_ylabel(r'$u(x)$')"
   ]
  },
  {
   "cell_type": "code",
   "execution_count": null,
   "metadata": {},
   "outputs": [],
   "source": [
    "nn = 1\n",
    "if nn_dict.get(nn):\n",
    "    fig, axs=plt.subplots(1,2,constrained_layout=True)\n",
    "    Draw(axs[0], XJ, V1, cjk, cjknum, zJc, a, b, j0, J)"
   ]
  }
 ],
 "metadata": {
  "kernelspec": {
   "display_name": "base",
   "language": "python",
   "name": "python3"
  },
  "language_info": {
   "codemirror_mode": {
    "name": "ipython",
    "version": 3
   },
   "file_extension": ".py",
   "mimetype": "text/x-python",
   "name": "python",
   "nbconvert_exporter": "python",
   "pygments_lexer": "ipython3",
   "version": "3.8.16"
  },
  "orig_nbformat": 4
 },
 "nbformat": 4,
 "nbformat_minor": 2
}
